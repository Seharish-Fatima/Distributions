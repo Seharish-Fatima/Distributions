{
 "cells": [
  {
   "cell_type": "code",
   "execution_count": 1,
   "id": "6b01b51e-da81-44a6-816d-e954a222a81b",
   "metadata": {},
   "outputs": [],
   "source": [
    "from empiricaldist import FreqTab\n",
    "from thinkstats import decorate\n",
    "from os.path import basename, exists\n",
    "from nsfg import read_fem_preg, read_fem_resp\n",
    "import numpy as np"
   ]
  },
  {
   "cell_type": "code",
   "execution_count": 2,
   "id": "f3389c47-2cd3-4806-84f7-2f9c77dbbf9a",
   "metadata": {},
   "outputs": [],
   "source": [
    "t = [1.0, 2.0, 2.0, 3.0, 5.0]"
   ]
  },
  {
   "cell_type": "code",
   "execution_count": 3,
   "id": "27014d5e-d9d7-462a-af53-136c676b0fb6",
   "metadata": {},
   "outputs": [
    {
     "data": {
      "text/html": [
       "<div>\n",
       "<style scoped>\n",
       "    .dataframe tbody tr th:only-of-type {\n",
       "        vertical-align: middle;\n",
       "    }\n",
       "\n",
       "    .dataframe tbody tr th {\n",
       "        vertical-align: top;\n",
       "    }\n",
       "\n",
       "    .dataframe thead th {\n",
       "        text-align: right;\n",
       "    }\n",
       "</style>\n",
       "<table border=\"1\" class=\"dataframe\">\n",
       "  <thead>\n",
       "    <tr style=\"text-align: right;\">\n",
       "      <th></th>\n",
       "      <th>freqs</th>\n",
       "    </tr>\n",
       "  </thead>\n",
       "  <tbody>\n",
       "    <tr>\n",
       "      <th>1.0</th>\n",
       "      <td>1</td>\n",
       "    </tr>\n",
       "    <tr>\n",
       "      <th>2.0</th>\n",
       "      <td>2</td>\n",
       "    </tr>\n",
       "    <tr>\n",
       "      <th>3.0</th>\n",
       "      <td>1</td>\n",
       "    </tr>\n",
       "    <tr>\n",
       "      <th>5.0</th>\n",
       "      <td>1</td>\n",
       "    </tr>\n",
       "  </tbody>\n",
       "</table>\n",
       "</div>"
      ],
      "text/plain": [
       "1.0    1\n",
       "2.0    2\n",
       "3.0    1\n",
       "5.0    1\n",
       "Name: , dtype: int64"
      ]
     },
     "execution_count": 3,
     "metadata": {},
     "output_type": "execute_result"
    }
   ],
   "source": [
    "ftab = FreqTab.from_seq(t)\n",
    "ftab"
   ]
  },
  {
   "cell_type": "code",
   "execution_count": 4,
   "id": "4ca05233-bd12-466c-8179-3150e0808a4e",
   "metadata": {},
   "outputs": [
    {
     "data": {
      "image/png": "[encoded data removed]",
      "text/plain": [
       "<Figure size 450x262.5 with 1 Axes>"
      ]
     },
     "metadata": {},
     "output_type": "display_data"
    }
   ],
   "source": [
    "ftab.bar()\n",
    "decorate(xlabel = \"Value\", ylabel = \"Frequency\")"
   ]
  },
  {
   "cell_type": "code",
   "execution_count": 5,
   "id": "d8426e60-0ee3-4450-a28d-a54fb2e3416c",
   "metadata": {},
   "outputs": [
    {
     "data": {
      "text/plain": [
       "np.int64(2)"
      ]
     },
     "execution_count": 5,
     "metadata": {},
     "output_type": "execute_result"
    }
   ],
   "source": [
    "ftab[2.0]"
   ]
  },
  {
   "cell_type": "code",
   "execution_count": 6,
   "id": "134d32c0-dad9-4d09-a076-aa660e378054",
   "metadata": {},
   "outputs": [
    {
     "data": {
      "text/plain": [
       "np.int64(2)"
      ]
     },
     "execution_count": 6,
     "metadata": {},
     "output_type": "execute_result"
    }
   ],
   "source": [
    "ftab(2.0)"
   ]
  },
  {
   "cell_type": "code",
   "execution_count": 7,
   "id": "e5cc3ad3-75b7-43ab-8231-7963c1c4a1a9",
   "metadata": {},
   "outputs": [
    {
     "data": {
      "text/plain": [
       "0"
      ]
     },
     "execution_count": 7,
     "metadata": {},
     "output_type": "execute_result"
    }
   ],
   "source": [
    "ftab(4.0)"
   ]
  },
  {
   "cell_type": "code",
   "execution_count": 8,
   "id": "381cd328-8b30-478b-b3c8-a574cf9c718b",
   "metadata": {},
   "outputs": [
    {
     "data": {
      "text/plain": [
       "array([1., 2., 3., 5.])"
      ]
     },
     "execution_count": 8,
     "metadata": {},
     "output_type": "execute_result"
    }
   ],
   "source": [
    "ftab.qs"
   ]
  },
  {
   "cell_type": "code",
   "execution_count": 9,
   "id": "51da7f04-46c3-4277-a7b1-8aa068e24a7d",
   "metadata": {},
   "outputs": [
    {
     "data": {
      "text/plain": [
       "array([1, 2, 1, 1])"
      ]
     },
     "execution_count": 9,
     "metadata": {},
     "output_type": "execute_result"
    }
   ],
   "source": [
    "ftab.fs"
   ]
  },
  {
   "cell_type": "code",
   "execution_count": 10,
   "id": "d9513aea-d1b9-42ec-8dcc-7ab840a07eaf",
   "metadata": {},
   "outputs": [
    {
     "name": "stdout",
     "output_type": "stream",
     "text": [
      "1.0 1\n",
      "2.0 2\n",
      "3.0 1\n",
      "5.0 1\n"
     ]
    }
   ],
   "source": [
    "for x, freq in ftab.items():\n",
    "    print(x, freq)"
   ]
  },
  {
   "cell_type": "code",
   "execution_count": 11,
   "id": "3233d54b-b90d-4f6b-a91d-81a13b297cdd",
   "metadata": {},
   "outputs": [],
   "source": [
    "preg = read_fem_preg()"
   ]
  },
  {
   "cell_type": "code",
   "execution_count": 12,
   "id": "48cfad6a-1bee-4255-b417-e66cb8b4d11e",
   "metadata": {},
   "outputs": [],
   "source": [
    "live = preg.query('outcome == 1')"
   ]
  },
  {
   "cell_type": "code",
   "execution_count": 13,
   "id": "fa2bd08c-9b2a-4eb6-989e-b261ae8c24ad",
   "metadata": {},
   "outputs": [],
   "source": [
    "ftab_lb = FreqTab.from_seq(live['birthwgt_lb'], name = \"birthwgt_lb\")"
   ]
  },
  {
   "cell_type": "code",
   "execution_count": 14,
   "id": "d7e261bc-781e-43cd-8110-64c2b22573f0",
   "metadata": {},
   "outputs": [
    {
     "data": {
      "image/png": "[encoded data removed]",
      "text/plain": [
       "<Figure size 450x262.5 with 1 Axes>"
      ]
     },
     "metadata": {},
     "output_type": "display_data"
    }
   ],
   "source": [
    "ftab_lb.bar()\n",
    "decorate(xlabel = \"Pounds\", ylabel = \"Frequency\")"
   ]
  },
  {
   "cell_type": "code",
   "execution_count": 15,
   "id": "f6b8c2c4-6064-44d0-8035-acdeb58a5208",
   "metadata": {},
   "outputs": [
    {
     "data": {
      "text/plain": [
       "np.float64(7.0)"
      ]
     },
     "execution_count": 15,
     "metadata": {},
     "output_type": "execute_result"
    }
   ],
   "source": [
    "ftab_lb.idxmax()"
   ]
  },
  {
   "cell_type": "code",
   "execution_count": 16,
   "id": "4adde8e1-a002-4908-8821-2e76a3694e37",
   "metadata": {},
   "outputs": [
    {
     "data": {
      "text/plain": [
       "np.float64(7.0)"
      ]
     },
     "execution_count": 16,
     "metadata": {},
     "output_type": "execute_result"
    }
   ],
   "source": [
    "ftab_lb.mode()"
   ]
  },
  {
   "cell_type": "code",
   "execution_count": 17,
   "id": "b210a3ee-847f-4a86-9a81-986d5351a151",
   "metadata": {},
   "outputs": [
    {
     "data": {
      "image/png": "[encoded data removed]",
      "text/plain": [
       "<Figure size 450x262.5 with 1 Axes>"
      ]
     },
     "metadata": {},
     "output_type": "display_data"
    }
   ],
   "source": [
    "ftab_oz = FreqTab.from_seq(live['birthwgt_oz'], name = 'birthwgt_oz')\n",
    "ftab_oz.bar()\n",
    "decorate(xlabel = \"Ounces\", ylabel = \"Frequency\")"
   ]
  },
  {
   "cell_type": "code",
   "execution_count": 18,
   "id": "78d64dda-12a0-45ba-ad43-09a075e0967a",
   "metadata": {},
   "outputs": [],
   "source": [
    "ftab_age = FreqTab.from_seq(live['agepreg'], name = 'agepreg')"
   ]
  },
  {
   "cell_type": "code",
   "execution_count": 19,
   "id": "ba77a5bd-ebaf-4161-b128-8f16ebf36227",
   "metadata": {},
   "outputs": [
    {
     "data": {
      "image/png": "[encoded data removed]",
      "text/plain": [
       "<Figure size 450x262.5 with 1 Axes>"
      ]
     },
     "metadata": {},
     "output_type": "display_data"
    }
   ],
   "source": [
    "ftab_age.bar(width = 0.1)\n",
    "decorate(xlabel = \"Age\", ylabel = \"Frequncy\")"
   ]
  },
  {
   "cell_type": "code",
   "execution_count": 20,
   "id": "7f2469f2-b769-4a52-8358-4ce9b779c858",
   "metadata": {},
   "outputs": [
    {
     "data": {
      "image/png": "[encoded data removed]",
      "text/plain": [
       "<Figure size 450x262.5 with 1 Axes>"
      ]
     },
     "metadata": {},
     "output_type": "display_data"
    }
   ],
   "source": [
    "ftab_length = FreqTab.from_seq(live['prglngth'], name = 'prglngth')\n",
    "ftab_length.bar()\n",
    "decorate(xlabel = \"Weeks\", ylabel = \"Frequency\", xlim = [20,50])"
   ]
  },
  {
   "cell_type": "code",
   "execution_count": 21,
   "id": "84cd31cb-148d-4a57-8a67-95c49f0d6163",
   "metadata": {},
   "outputs": [],
   "source": [
    "def smallest(ftab, n = 10):\n",
    "    return ftab[:n]"
   ]
  },
  {
   "cell_type": "code",
   "execution_count": 22,
   "id": "59f9646a-5f18-44e5-99b5-9a8f144ef68b",
   "metadata": {},
   "outputs": [
    {
     "data": {
      "text/plain": [
       "prglngth\n",
       "0     1\n",
       "4     1\n",
       "9     1\n",
       "13    1\n",
       "17    2\n",
       "18    1\n",
       "19    1\n",
       "20    1\n",
       "21    2\n",
       "22    7\n",
       "Name: prglngth, dtype: int64"
      ]
     },
     "execution_count": 22,
     "metadata": {},
     "output_type": "execute_result"
    }
   ],
   "source": [
    "smallest(ftab_length)"
   ]
  },
  {
   "cell_type": "code",
   "execution_count": 23,
   "id": "ce0bfd00-9fdb-4fd8-ad2b-7cae2856418a",
   "metadata": {},
   "outputs": [],
   "source": [
    "def largest(ftab, n = 10):\n",
    "    return ftab[-n:]"
   ]
  },
  {
   "cell_type": "code",
   "execution_count": 24,
   "id": "a13def68-e589-4c11-b1b3-3cb4b1130723",
   "metadata": {},
   "outputs": [
    {
     "data": {
      "text/plain": [
       "prglngth\n",
       "40    1116\n",
       "41     587\n",
       "42     328\n",
       "43     148\n",
       "44      46\n",
       "45      10\n",
       "46       1\n",
       "47       1\n",
       "48       7\n",
       "50       2\n",
       "Name: prglngth, dtype: int64"
      ]
     },
     "execution_count": 24,
     "metadata": {},
     "output_type": "execute_result"
    }
   ],
   "source": [
    "largest(ftab_length)"
   ]
  },
  {
   "cell_type": "code",
   "execution_count": 25,
   "id": "95b46af6-c19a-4a87-a9f1-1b4882806ca1",
   "metadata": {},
   "outputs": [],
   "source": [
    "firsts = live.query(\"birthord == 1\")\n",
    "others = live.query(\"birthord != 1\")"
   ]
  },
  {
   "cell_type": "code",
   "execution_count": 26,
   "id": "1580cde7-b3da-47d8-9e76-e68a3c219bf8",
   "metadata": {},
   "outputs": [],
   "source": [
    "ftab_first = FreqTab.from_seq(firsts[\"prglngth\"], name = \"firsts\")\n",
    "ftab_other = FreqTab.from_seq(others[\"prglngth\"], name = \"others\")"
   ]
  },
  {
   "cell_type": "code",
   "execution_count": 27,
   "id": "e6d15202-1a09-4beb-a78d-32b6ecd0befa",
   "metadata": {},
   "outputs": [],
   "source": [
    "def two_bar_plots(ftab1, ftab2, width = 0.45):\n",
    "    ftab1.bar(align = \"edge\", width = -width)\n",
    "    ftab2.bar(align = \"edge\", width = width, alpha = 0.5)"
   ]
  },
  {
   "cell_type": "code",
   "execution_count": 28,
   "id": "a97ec60e-e5b3-4c2a-8592-114b6bbc0800",
   "metadata": {},
   "outputs": [
    {
     "data": {
      "image/png": "[encoded data removed]",
      "text/plain": [
       "<Figure size 450x262.5 with 1 Axes>"
      ]
     },
     "metadata": {},
     "output_type": "display_data"
    }
   ],
   "source": [
    "two_bar_plots(ftab_first, ftab_other)\n",
    "decorate(xlabel = \"Weeks\", ylabel = \"Frequency\", xlim = [20,50])"
   ]
  },
  {
   "cell_type": "code",
   "execution_count": 29,
   "id": "0e73b76b-e8ec-4a8d-a9de-425b0a844b37",
   "metadata": {},
   "outputs": [
    {
     "data": {
      "text/plain": [
       "(np.int64(4413), np.int64(4735))"
      ]
     },
     "execution_count": 29,
     "metadata": {},
     "output_type": "execute_result"
    }
   ],
   "source": [
    "firsts['prglngth'].count(), others['prglngth'].count()"
   ]
  },
  {
   "cell_type": "code",
   "execution_count": 30,
   "id": "44e1889b-4d5b-417e-a033-c29916660591",
   "metadata": {},
   "outputs": [
    {
     "data": {
      "text/plain": [
       "(np.float64(38.60095173351461), np.float64(38.52291446673706))"
      ]
     },
     "execution_count": 30,
     "metadata": {},
     "output_type": "execute_result"
    }
   ],
   "source": [
    "first_mean = firsts['prglngth'].mean()\n",
    "other_mean = others['prglngth'].mean()\n",
    "first_mean, other_mean"
   ]
  },
  {
   "cell_type": "code",
   "execution_count": 31,
   "id": "a4e47672-8011-4142-a4fb-780417cab030",
   "metadata": {},
   "outputs": [
    {
     "data": {
      "text/plain": [
       "(np.float64(0.07803726677754952), np.float64(13.11026081862832))"
      ]
     },
     "execution_count": 31,
     "metadata": {},
     "output_type": "execute_result"
    }
   ],
   "source": [
    "diff = first_mean - other_mean\n",
    "diff, diff * 7 * 24"
   ]
  },
  {
   "cell_type": "code",
   "execution_count": 32,
   "id": "6d5dbb60-222b-43d8-9df0-7e6d11426561",
   "metadata": {},
   "outputs": [
    {
     "data": {
      "text/plain": [
       "np.float64(0.20237586646738304)"
      ]
     },
     "execution_count": 32,
     "metadata": {},
     "output_type": "execute_result"
    }
   ],
   "source": [
    "diff / live['prglngth'].mean() * 100"
   ]
  },
  {
   "cell_type": "code",
   "execution_count": 33,
   "id": "4c5d17bd-c9d1-4327-b005-b46da94879a4",
   "metadata": {},
   "outputs": [
    {
     "data": {
      "text/plain": [
       "np.float64(0.028877623375210403)"
      ]
     },
     "execution_count": 33,
     "metadata": {},
     "output_type": "execute_result"
    }
   ],
   "source": [
    "diff / live['prglngth'].std()"
   ]
  },
  {
   "cell_type": "code",
   "execution_count": 34,
   "id": "c08a02d0-d203-4a03-a7db-64509bdbe45a",
   "metadata": {},
   "outputs": [],
   "source": [
    "group1, group2 = firsts['prglngth'], others['prglngth']\n",
    "v1, v2 = group1.var(), group2.var()"
   ]
  },
  {
   "cell_type": "code",
   "execution_count": 35,
   "id": "14e19009-83e6-49bf-acf0-27dbfb1495a9",
   "metadata": {},
   "outputs": [],
   "source": [
    "n1, n2 = group1.count(), group2.count()\n",
    "pooled_var = (n1 * v1 + n2 * v2) / (n1 + n2)"
   ]
  },
  {
   "cell_type": "code",
   "execution_count": 36,
   "id": "b0f31790-b838-477c-93b8-062835a451ed",
   "metadata": {},
   "outputs": [
    {
     "data": {
      "text/plain": [
       "np.float64(2.7022108144953862)"
      ]
     },
     "execution_count": 36,
     "metadata": {},
     "output_type": "execute_result"
    }
   ],
   "source": [
    "np.sqrt(pooled_var)"
   ]
  },
  {
   "cell_type": "code",
   "execution_count": 37,
   "id": "44cd70ed-8e62-4529-8456-5c385bbafac7",
   "metadata": {},
   "outputs": [
    {
     "data": {
      "text/plain": [
       "(np.float64(2.7919014146687204), np.float64(2.6158523504392375))"
      ]
     },
     "execution_count": 37,
     "metadata": {},
     "output_type": "execute_result"
    }
   ],
   "source": [
    "firsts['prglngth'].std(), others['prglngth'].std()"
   ]
  },
  {
   "cell_type": "code",
   "execution_count": 38,
   "id": "f90c926f-9d58-490a-9fce-7ff4b5db2653",
   "metadata": {},
   "outputs": [],
   "source": [
    "def cohen_effect_size(group1, group2):\n",
    "    diff = group1.mean() - group2.mean()\n",
    "    v1, v2 = group1.var(), group2.var()\n",
    "    n1, n2 = group1.count(), group2.count()\n",
    "    pooled_var = (n1 * v1 + n2 * v2) / (n1 + n2)\n",
    "    return diff / np.sqrt(pooled_var)"
   ]
  },
  {
   "cell_type": "code",
   "execution_count": 39,
   "id": "2a34f728-0531-43ab-a33e-ccfbbe44bd00",
   "metadata": {},
   "outputs": [
    {
     "data": {
      "text/plain": [
       "np.float64(0.028879044654449834)"
      ]
     },
     "execution_count": 39,
     "metadata": {},
     "output_type": "execute_result"
    }
   ],
   "source": [
    "cohen_effect_size(firsts['prglngth'], others['prglngth'])"
   ]
  },
  {
   "cell_type": "code",
   "execution_count": 40,
   "id": "9a4f51ad-a9dd-4ec4-a4eb-c287675599b8",
   "metadata": {},
   "outputs": [],
   "source": [
    "df = read_fem_resp()"
   ]
  },
  {
   "cell_type": "code",
   "execution_count": 41,
   "id": "6210fd76-ca9d-4f1c-92ab-14d9e25c6630",
   "metadata": {},
   "outputs": [
    {
     "data": {
      "text/plain": [
       "(7643, 3092)"
      ]
     },
     "execution_count": 41,
     "metadata": {},
     "output_type": "execute_result"
    }
   ],
   "source": [
    "df.shape"
   ]
  },
  {
   "cell_type": "code",
   "execution_count": 42,
   "id": "3615dd9e-b029-4ee6-9850-d26fa5f5efeb",
   "metadata": {},
   "outputs": [
    {
     "data": {
      "text/plain": [
       "Index(['caseid', 'rscrinf', 'rdormres', 'rostscrn', 'rscreenhisp',\n",
       "       'rscreenrace', 'age_a', 'age_r', 'cmbirth', 'agescrn',\n",
       "       ...\n",
       "       'sest', 'cmintvw', 'cmlstyr', 'screentime', 'intvlngth', 'agemarry',\n",
       "       'age', 'year', 'decade', 'fives'],\n",
       "      dtype='object', length=3092)"
      ]
     },
     "execution_count": 42,
     "metadata": {},
     "output_type": "execute_result"
    }
   ],
   "source": [
    "df.columns"
   ]
  },
  {
   "cell_type": "code",
   "execution_count": 43,
   "id": "ec8f8c42-f816-4653-a80e-a1a679b080d9",
   "metadata": {},
   "outputs": [
    {
     "data": {
      "image/png": "[encoded data removed]",
      "text/plain": [
       "<Figure size 450x262.5 with 1 Axes>"
      ]
     },
     "metadata": {},
     "output_type": "display_data"
    }
   ],
   "source": [
    "total_income = FreqTab.from_seq(df['totincr'], name = 'Total Income')\n",
    "total_income.bar()\n",
    "decorate(xlabel = \"Income\", ylabel = \"Frequency\")"
   ]
  },
  {
   "cell_type": "code",
   "execution_count": 44,
   "id": "5b813a5b-61f8-43c5-9dd2-e3b99562de7a",
   "metadata": {},
   "outputs": [
    {
     "data": {
      "text/html": [
       "<div>\n",
       "<style scoped>\n",
       "    .dataframe tbody tr th:only-of-type {\n",
       "        vertical-align: middle;\n",
       "    }\n",
       "\n",
       "    .dataframe tbody tr th {\n",
       "        vertical-align: top;\n",
       "    }\n",
       "\n",
       "    .dataframe thead th {\n",
       "        text-align: right;\n",
       "    }\n",
       "</style>\n",
       "<table border=\"1\" class=\"dataframe\">\n",
       "  <thead>\n",
       "    <tr style=\"text-align: right;\">\n",
       "      <th></th>\n",
       "      <th>freqs</th>\n",
       "    </tr>\n",
       "    <tr>\n",
       "      <th>parity</th>\n",
       "      <th></th>\n",
       "    </tr>\n",
       "  </thead>\n",
       "  <tbody>\n",
       "    <tr>\n",
       "      <th>0</th>\n",
       "      <td>3230</td>\n",
       "    </tr>\n",
       "    <tr>\n",
       "      <th>1</th>\n",
       "      <td>1519</td>\n",
       "    </tr>\n",
       "    <tr>\n",
       "      <th>2</th>\n",
       "      <td>1603</td>\n",
       "    </tr>\n",
       "    <tr>\n",
       "      <th>3</th>\n",
       "      <td>828</td>\n",
       "    </tr>\n",
       "    <tr>\n",
       "      <th>4</th>\n",
       "      <td>309</td>\n",
       "    </tr>\n",
       "    <tr>\n",
       "      <th>5</th>\n",
       "      <td>95</td>\n",
       "    </tr>\n",
       "    <tr>\n",
       "      <th>6</th>\n",
       "      <td>29</td>\n",
       "    </tr>\n",
       "    <tr>\n",
       "      <th>7</th>\n",
       "      <td>15</td>\n",
       "    </tr>\n",
       "    <tr>\n",
       "      <th>8</th>\n",
       "      <td>8</td>\n",
       "    </tr>\n",
       "    <tr>\n",
       "      <th>9</th>\n",
       "      <td>2</td>\n",
       "    </tr>\n",
       "    <tr>\n",
       "      <th>10</th>\n",
       "      <td>3</td>\n",
       "    </tr>\n",
       "    <tr>\n",
       "      <th>16</th>\n",
       "      <td>1</td>\n",
       "    </tr>\n",
       "    <tr>\n",
       "      <th>22</th>\n",
       "      <td>1</td>\n",
       "    </tr>\n",
       "  </tbody>\n",
       "</table>\n",
       "</div>"
      ],
      "text/plain": [
       "parity\n",
       "0     3230\n",
       "1     1519\n",
       "2     1603\n",
       "3      828\n",
       "4      309\n",
       "5       95\n",
       "6       29\n",
       "7       15\n",
       "8        8\n",
       "9        2\n",
       "10       3\n",
       "16       1\n",
       "22       1\n",
       "Name: , dtype: int64"
      ]
     },
     "execution_count": 44,
     "metadata": {},
     "output_type": "execute_result"
    }
   ],
   "source": [
    "table = FreqTab.from_seq(df['parity'])\n",
    "table"
   ]
  },
  {
   "cell_type": "code",
   "execution_count": 45,
   "id": "db42dab8-3402-433c-8502-5c91bd12252e",
   "metadata": {},
   "outputs": [
    {
     "data": {
      "text/plain": [
       "parity\n",
       "0     3230\n",
       "2     1603\n",
       "1     1519\n",
       "3      828\n",
       "4      309\n",
       "5       95\n",
       "6       29\n",
       "7       15\n",
       "8        8\n",
       "10       3\n",
       "Name: , dtype: int64"
      ]
     },
     "execution_count": 45,
     "metadata": {},
     "output_type": "execute_result"
    }
   ],
   "source": [
    "def largest(table, n = 10):\n",
    "    return table.sort_values(ascending=False)[:n]\n",
    "largest(table)"
   ]
  },
  {
   "cell_type": "code",
   "execution_count": 47,
   "id": "0bbd3aa6-b7d1-4e14-894d-ae2e858a9eba",
   "metadata": {},
   "outputs": [],
   "source": [
    "highs = df.query(\"totincr == 14\")  \n",
    "others = df.query(\"totincr != 14\")"
   ]
  },
  {
   "cell_type": "code",
   "execution_count": 48,
   "id": "a1984f1b-c19a-4bac-9b48-231f3d29fa84",
   "metadata": {},
   "outputs": [],
   "source": [
    "ftab_high = FreqTab.from_seq(highs[\"parity\"], name = \"High Incomes\")\n",
    "ftab_other = FreqTab.from_seq(others[\"parity\"], name = \"Others\")"
   ]
  },
  {
   "cell_type": "code",
   "execution_count": 49,
   "id": "c6653985-137a-4731-bdc5-de60af2a7b86",
   "metadata": {},
   "outputs": [],
   "source": [
    "def two_bar_plots(ftab1, ftab2, width = 0.45):\n",
    "    ftab1.bar(align = \"edge\", width = -width)\n",
    "    ftab2.bar(align = \"edge\", width = width, alpha = 0.5)"
   ]
  },
  {
   "cell_type": "code",
   "execution_count": 53,
   "id": "80910c68-5a3a-4717-ad97-e456486add0b",
   "metadata": {},
   "outputs": [
    {
     "data": {
      "image/png": "[encoded data removed]",
      "text/plain": [
       "<Figure size 450x262.5 with 1 Axes>"
      ]
     },
     "metadata": {},
     "output_type": "display_data"
    }
   ],
   "source": [
    "two_bar_plots(ftab_high, ftab_other)\n",
    "decorate(xlabel = \"Parity\", ylabel = \"Frequency\", xlim = [0,10])"
   ]
  },
  {
   "cell_type": "code",
   "execution_count": 54,
   "id": "ee40ea37-281c-4f1d-b9ba-619499171e6f",
   "metadata": {},
   "outputs": [
    {
     "data": {
      "text/plain": [
       "(np.int64(1160), np.int64(6483))"
      ]
     },
     "execution_count": 54,
     "metadata": {},
     "output_type": "execute_result"
    }
   ],
   "source": [
    "highs['parity'].count(), others['parity'].count()"
   ]
  },
  {
   "cell_type": "code",
   "execution_count": 55,
   "id": "d873b308-fb32-46f5-8b06-06c303b7205f",
   "metadata": {},
   "outputs": [
    {
     "data": {
      "text/plain": [
       "(np.float64(1.0758620689655172), np.float64(1.2495758136665125))"
      ]
     },
     "execution_count": 55,
     "metadata": {},
     "output_type": "execute_result"
    }
   ],
   "source": [
    "high_mean = highs['parity'].mean()\n",
    "other_mean = others['parity'].mean()\n",
    "high_mean, other_mean"
   ]
  },
  {
   "cell_type": "code",
   "execution_count": 56,
   "id": "8925aad1-0f10-488f-91bb-01993bb2b00f",
   "metadata": {},
   "outputs": [
    {
     "data": {
      "text/plain": [
       "(np.float64(-0.17371374470099532), np.float64(-29.183909109767214))"
      ]
     },
     "execution_count": 56,
     "metadata": {},
     "output_type": "execute_result"
    }
   ],
   "source": [
    "diff = high_mean - other_mean\n",
    "diff, diff * 7 * 24"
   ]
  },
  {
   "cell_type": "code",
   "execution_count": 57,
   "id": "2a59c160-cef6-491b-b075-84e36bed9b18",
   "metadata": {},
   "outputs": [
    {
     "data": {
      "text/plain": [
       "np.float64(-14.201456313506334)"
      ]
     },
     "execution_count": 57,
     "metadata": {},
     "output_type": "execute_result"
    }
   ],
   "source": [
    "diff / df['parity'].mean() * 100"
   ]
  },
  {
   "cell_type": "code",
   "execution_count": 58,
   "id": "f35080c3-ea51-42c6-b763-4e46e257acb7",
   "metadata": {},
   "outputs": [
    {
     "data": {
      "text/plain": [
       "np.float64(-0.12499891827375545)"
      ]
     },
     "execution_count": 58,
     "metadata": {},
     "output_type": "execute_result"
    }
   ],
   "source": [
    "diff / df['parity'].std()"
   ]
  },
  {
   "cell_type": "code",
   "execution_count": 59,
   "id": "24e42ea8-0c55-4f55-82fb-36fe45e00341",
   "metadata": {},
   "outputs": [],
   "source": [
    "group1, group2 = highs['parity'], others['parity']\n",
    "v1, v2 = group1.var(), group2.var()"
   ]
  },
  {
   "cell_type": "code",
   "execution_count": 60,
   "id": "f6bc1c7f-889c-4ca7-967b-9b80b310daf6",
   "metadata": {},
   "outputs": [],
   "source": [
    "n1, n2 = group1.count(), group2.count()\n",
    "pooled_var = (n1 * v1 + n2 * v2) / (n1 + n2)"
   ]
  },
  {
   "cell_type": "code",
   "execution_count": 61,
   "id": "8eadac80-bf51-4230-baee-c59a12b68e80",
   "metadata": {},
   "outputs": [
    {
     "data": {
      "text/plain": [
       "np.float64(1.3883931705752048)"
      ]
     },
     "execution_count": 61,
     "metadata": {},
     "output_type": "execute_result"
    }
   ],
   "source": [
    "np.sqrt(pooled_var)"
   ]
  },
  {
   "cell_type": "code",
   "execution_count": 62,
   "id": "3c13e2d0-d2a4-4755-bc2f-5fb3c9dcec56",
   "metadata": {},
   "outputs": [
    {
     "data": {
      "text/plain": [
       "(np.float64(1.1761668844433981), np.float64(1.4230323371683802))"
      ]
     },
     "execution_count": 62,
     "metadata": {},
     "output_type": "execute_result"
    }
   ],
   "source": [
    "highs['parity'].std(), others['parity'].std()"
   ]
  },
  {
   "cell_type": "code",
   "execution_count": 63,
   "id": "a64f1ce6-3738-498c-b232-61ec60d737c4",
   "metadata": {},
   "outputs": [],
   "source": [
    "def cohen_effect_size(group1, group2):\n",
    "    diff = group1.mean() - group2.mean()\n",
    "    v1, v2 = group1.var(), group2.var()\n",
    "    n1, n2 = group1.count(), group2.count()\n",
    "    pooled_var = (n1 * v1 + n2 * v2) / (n1 + n2)\n",
    "    return diff / np.sqrt(pooled_var)"
   ]
  },
  {
   "cell_type": "code",
   "execution_count": 64,
   "id": "64d0e8da-d7c9-4e6a-89e8-4960c4267cdf",
   "metadata": {},
   "outputs": [
    {
     "data": {
      "text/plain": [
       "np.float64(-0.12511855314660367)"
      ]
     },
     "execution_count": 64,
     "metadata": {},
     "output_type": "execute_result"
    }
   ],
   "source": [
    "cohen_effect_size(highs['parity'], others['parity'])"
   ]
  },
  {
   "cell_type": "code",
   "execution_count": null,
   "id": "7d3eac4c-47ef-49bc-8580-54a29ea519ef",
   "metadata": {},
   "outputs": [],
   "source": []
  }
 ],
 "metadata": {
  "kernelspec": {
   "display_name": "Python 3 (ipykernel)",
   "language": "python",
   "name": "python3"
  },
  "language_info": {
   "codemirror_mode": {
    "name": "ipython",
    "version": 3
   },
   "file_extension": ".py",
   "mimetype": "text/x-python",
   "name": "python",
   "nbconvert_exporter": "python",
   "pygments_lexer": "ipython3",
   "version": "3.13.1"
  }
 },
 "nbformat": 4,
 "nbformat_minor": 5
}
